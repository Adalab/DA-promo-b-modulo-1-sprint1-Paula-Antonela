{
 "cells": [
  {
   "cell_type": "code",
   "execution_count": 1,
   "metadata": {},
   "outputs": [],
   "source": [
    "# resolucion ejercicio diccionario\n",
    "\n",
    "import random\n"
   ]
  },
  {
   "cell_type": "code",
   "execution_count": 7,
   "metadata": {},
   "outputs": [],
   "source": [
    "# definir diccionario_words\n",
    "words = {'Colors':'red orange yellow green blue indigo violet white black brown'.split(),\n",
    "'Shapes':'square triangle rectangle circle ellipse rhombus trapezoid chevron pentagon hexagon septagon octagon'.split(),\n",
    "'Fruits':'apple orange lemon lime pear watermelon grape grapefruit cherry banana cantaloupe mango strawberry tomato'.split(),\n",
    "'Animals':'bat bear beaver cat cougar crab deer dog donkey duck eagle fish frog goat leech lion lizard monkey moose mouse otter owl panda python rabbit rat shark sheep skunk squid tiger turkey turtle weasel whale wolf wombat zebra'.split()}\n"
   ]
  },
  {
   "cell_type": "code",
   "execution_count": 22,
   "metadata": {},
   "outputs": [],
   "source": [
    "# variables predefinidas\n",
    "bienvenida = \"Comenzamos el juego!\"\n",
    "elige_key = input(\"Elige una de las siguientes categorias, usando su número.\") \n",
    "elige_value = input(\"Adivina una palabra de la categoria\")\n",
    "adivino = \"Era la palabra que buscabamos?\"\n",
    "\n",
    "\n"
   ]
  },
  {
   "cell_type": "code",
   "execution_count": 8,
   "metadata": {},
   "outputs": [
    {
     "name": "stdout",
     "output_type": "stream",
     "text": [
      "{'Colors': ['red', 'orange', 'yellow', 'green', 'blue', 'indigo', 'violet', 'white', 'black', 'brown'], 'Shapes': ['square', 'triangle', 'rectangle', 'circle', 'ellipse', 'rhombus', 'trapezoid', 'chevron', 'pentagon', 'hexagon', 'septagon', 'octagon'], 'Fruits': ['apple', 'orange', 'lemon', 'lime', 'pear', 'watermelon', 'grape', 'grapefruit', 'cherry', 'banana', 'cantaloupe', 'mango', 'strawberry', 'tomato'], 'Animals': ['bat', 'bear', 'beaver', 'cat', 'cougar', 'crab', 'deer', 'dog', 'donkey', 'duck', 'eagle', 'fish', 'frog', 'goat', 'leech', 'lion', 'lizard', 'monkey', 'moose', 'mouse', 'otter', 'owl', 'panda', 'python', 'rabbit', 'rat', 'shark', 'sheep', 'skunk', 'squid', 'tiger', 'turkey', 'turtle', 'weasel', 'whale', 'wolf', 'wombat', 'zebra']}\n"
     ]
    }
   ],
   "source": [
    "print(words)"
   ]
  },
  {
   "cell_type": "code",
   "execution_count": 15,
   "metadata": {},
   "outputs": [],
   "source": [
    "#definimos listas con las keys del diccionario\n"
   ]
  },
  {
   "cell_type": "code",
   "execution_count": 16,
   "metadata": {},
   "outputs": [
    {
     "data": {
      "text/plain": [
       "dict_keys(['Colors', 'Shapes', 'Fruits', 'Animals'])"
      ]
     },
     "execution_count": 16,
     "metadata": {},
     "output_type": "execute_result"
    }
   ],
   "source": [
    "# comprobar keys diccionario\n",
    "words.keys()"
   ]
  },
  {
   "cell_type": "code",
   "execution_count": 17,
   "metadata": {},
   "outputs": [
    {
     "data": {
      "text/plain": [
       "dict_keys"
      ]
     },
     "execution_count": 17,
     "metadata": {},
     "output_type": "execute_result"
    }
   ],
   "source": [
    "# comprobar tipo de word.keys\n",
    "type(words.keys())"
   ]
  },
  {
   "cell_type": "code",
   "execution_count": 18,
   "metadata": {},
   "outputs": [
    {
     "data": {
      "text/plain": [
       "['Colors', 'Shapes', 'Fruits', 'Animals']"
      ]
     },
     "execution_count": 18,
     "metadata": {},
     "output_type": "execute_result"
    }
   ],
   "source": [
    "# convertir dict_keys en lista\n",
    "\n",
    "list(words.keys())"
   ]
  },
  {
   "cell_type": "code",
   "execution_count": 19,
   "metadata": {},
   "outputs": [],
   "source": [
    "lista_keys = list(words.keys())"
   ]
  },
  {
   "cell_type": "code",
   "execution_count": 20,
   "metadata": {},
   "outputs": [
    {
     "name": "stdout",
     "output_type": "stream",
     "text": [
      "Comenzamos el juego!\n"
     ]
    }
   ],
   "source": [
    "print(bienvenida)"
   ]
  },
  {
   "cell_type": "code",
   "execution_count": 30,
   "metadata": {},
   "outputs": [
    {
     "name": "stdout",
     "output_type": "stream",
     "text": [
      "<built-in method keys of dict object at 0x0000012914269980>\n"
     ]
    }
   ],
   "source": [
    "print(str(words.keys))"
   ]
  },
  {
   "cell_type": "code",
   "execution_count": null,
   "metadata": {},
   "outputs": [],
   "source": []
  }
 ],
 "metadata": {
  "kernelspec": {
   "display_name": "Python 3.10.5 64-bit (windows store)",
   "language": "python",
   "name": "python3"
  },
  "language_info": {
   "codemirror_mode": {
    "name": "ipython",
    "version": 3
   },
   "file_extension": ".py",
   "mimetype": "text/x-python",
   "name": "python",
   "nbconvert_exporter": "python",
   "pygments_lexer": "ipython3",
   "version": "3.10.5"
  },
  "orig_nbformat": 4,
  "vscode": {
   "interpreter": {
    "hash": "16a6203e80ab692cd59eb2fed3c5840057343ed93097c3c3229af5f56100ad25"
   }
  }
 },
 "nbformat": 4,
 "nbformat_minor": 2
}
