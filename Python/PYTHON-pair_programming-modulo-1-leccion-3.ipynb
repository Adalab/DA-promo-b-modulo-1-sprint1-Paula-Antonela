{
 "cells": [
  {
   "cell_type": "markdown",
   "metadata": {},
   "source": [
    "Ejercicio pair programmig 3 listas:"
   ]
  },
  {
   "cell_type": "code",
   "execution_count": 1,
   "metadata": {},
   "outputs": [
    {
     "name": "stdout",
     "output_type": "stream",
     "text": [
      "¡Comenzamos el juego!\n",
      "La lista aleatoria tiene 4 entre 2 a 10\n",
      "El usuario adivinó 4\n",
      "Adivinaste el número?\n",
      "True\n",
      "Estaba en el sitio 2, índice 1.\n",
      "Terminamos el juego. La lista era [3, 4, 5, 6]\n"
     ]
    }
   ],
   "source": [
    "import math\n",
    "import random\n",
    "\n",
    "# Variables numéricas\n",
    "index = -1\n",
    "num_list = list(int(num) for num in input('Lista de números separada por espacios:').strip().split())\n",
    "lim_inferior = 2\n",
    "lim_superior = 10\n",
    "len_ = len(num_list)\n",
    "\n",
    "# Cadenas fijas de texto\n",
    "bienvenida = '¡Comenzamos el juego!'\n",
    "adivina = 'es tu momento, adivina un número'\n",
    "\n",
    "# User input\n",
    "numero = input('Elige un numero')\n",
    "\n",
    "# Cantidades calculadas\n",
    "intentos_permitidos = round(math.log(lim_superior - lim_inferior + 1,2))\n",
    "numero_secreto = random.randint(lim_inferior,lim_superior)\n",
    "\n",
    "# Inicio del juego\n",
    "print('¡Comenzamos el juego!')\n",
    "print('La lista aleatoria tiene',len_,'entre',lim_inferior,'a',lim_superior)\n",
    "\n",
    "# Adivinar 1 intento\n",
    "adivina = 'es tu momento, adivina un número'\n",
    "numero = int(input('Elige un numero'))\n",
    "print ('El usuario adivinó',numero)\n",
    "print('Adivinaste el número?')\n",
    "intento = int(numero)\n",
    "bool_intento = intento in num_list\n",
    "print(bool_intento)\n",
    "if num_list.count(intento): \n",
    "    index = num_list.index(intento)\n",
    "if index >= 0:print(\"Estaba en el sitio\", str(index+1) + \", índice\", str(index)+\".\")\n",
    "\n",
    "# Fin del juego\n",
    "print('Terminamos el juego. La lista era',num_list)"
   ]
  },
  {
   "cell_type": "markdown",
   "metadata": {},
   "source": []
  }
 ],
 "metadata": {
  "kernelspec": {
   "display_name": "Python 3.10.5 64-bit (windows store)",
   "language": "python",
   "name": "python3"
  },
  "language_info": {
   "codemirror_mode": {
    "name": "ipython",
    "version": 3
   },
   "file_extension": ".py",
   "mimetype": "text/x-python",
   "name": "python",
   "nbconvert_exporter": "python",
   "pygments_lexer": "ipython3",
   "version": "3.10.5"
  },
  "orig_nbformat": 4,
  "vscode": {
   "interpreter": {
    "hash": "16a6203e80ab692cd59eb2fed3c5840057343ed93097c3c3229af5f56100ad25"
   }
  }
 },
 "nbformat": 4,
 "nbformat_minor": 2
}
