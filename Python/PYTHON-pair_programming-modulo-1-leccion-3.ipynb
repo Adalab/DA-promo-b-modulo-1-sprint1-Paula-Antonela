{
 "cells": [
  {
   "cell_type": "markdown",
   "metadata": {},
   "source": [
    "Ejercicio pair programmig 3 listas:"
   ]
  },
  {
   "cell_type": "code",
   "execution_count": 7,
   "metadata": {},
   "outputs": [
    {
     "ename": "ValueError",
     "evalue": "Sample larger than population or is negative",
     "output_type": "error",
     "traceback": [
      "\u001b[1;31m---------------------------------------------------------------------------\u001b[0m",
      "\u001b[1;31mValueError\u001b[0m                                Traceback (most recent call last)",
      "\u001b[1;32mc:\\Users\\antoa\\OneDrive\\Escritorio\\ADALAB\\ejercicios-de-adalab-pareja\\DA-promo-b-modulo-1-sprint1-Paula-Antonela\\Python\\PYTHON-pair_programming-modulo-1-leccion-3.ipynb Celda 2\u001b[0m in \u001b[0;36m<cell line: 20>\u001b[1;34m()\u001b[0m\n\u001b[0;32m     <a href='vscode-notebook-cell:/c%3A/Users/antoa/OneDrive/Escritorio/ADALAB/ejercicios-de-adalab-pareja/DA-promo-b-modulo-1-sprint1-Paula-Antonela/Python/PYTHON-pair_programming-modulo-1-leccion-3.ipynb#ch0000003?line=15'>16</a>\u001b[0m intento \u001b[39m=\u001b[39m \u001b[39minput\u001b[39m(\u001b[39m\"\u001b[39m\u001b[39mTienes un intento para adivinar el numero entre el 3 y 6\u001b[39m\u001b[39m\"\u001b[39m)\n\u001b[0;32m     <a href='vscode-notebook-cell:/c%3A/Users/antoa/OneDrive/Escritorio/ADALAB/ejercicios-de-adalab-pareja/DA-promo-b-modulo-1-sprint1-Paula-Antonela/Python/PYTHON-pair_programming-modulo-1-leccion-3.ipynb#ch0000003?line=18'>19</a>\u001b[0m \u001b[39m# Cantidades calculadas\u001b[39;00m\n\u001b[1;32m---> <a href='vscode-notebook-cell:/c%3A/Users/antoa/OneDrive/Escritorio/ADALAB/ejercicios-de-adalab-pareja/DA-promo-b-modulo-1-sprint1-Paula-Antonela/Python/PYTHON-pair_programming-modulo-1-leccion-3.ipynb#ch0000003?line=19'>20</a>\u001b[0m num_list \u001b[39m=\u001b[39m random\u001b[39m.\u001b[39;49msample(\u001b[39mrange\u001b[39;49m(lim_inferior, lim_superior), longitud_lista)\n\u001b[0;32m     <a href='vscode-notebook-cell:/c%3A/Users/antoa/OneDrive/Escritorio/ADALAB/ejercicios-de-adalab-pareja/DA-promo-b-modulo-1-sprint1-Paula-Antonela/Python/PYTHON-pair_programming-modulo-1-leccion-3.ipynb#ch0000003?line=21'>22</a>\u001b[0m \u001b[39m# Inicio del juego\u001b[39;00m\n\u001b[0;32m     <a href='vscode-notebook-cell:/c%3A/Users/antoa/OneDrive/Escritorio/ADALAB/ejercicios-de-adalab-pareja/DA-promo-b-modulo-1-sprint1-Paula-Antonela/Python/PYTHON-pair_programming-modulo-1-leccion-3.ipynb#ch0000003?line=22'>23</a>\u001b[0m \u001b[39mprint\u001b[39m(x)\n",
      "File \u001b[1;32mC:\\Program Files\\WindowsApps\\PythonSoftwareFoundation.Python.3.10_3.10.1520.0_x64__qbz5n2kfra8p0\\lib\\random.py:482\u001b[0m, in \u001b[0;36mRandom.sample\u001b[1;34m(self, population, k, counts)\u001b[0m\n\u001b[0;32m    480\u001b[0m randbelow \u001b[39m=\u001b[39m \u001b[39mself\u001b[39m\u001b[39m.\u001b[39m_randbelow\n\u001b[0;32m    481\u001b[0m \u001b[39mif\u001b[39;00m \u001b[39mnot\u001b[39;00m \u001b[39m0\u001b[39m \u001b[39m<\u001b[39m\u001b[39m=\u001b[39m k \u001b[39m<\u001b[39m\u001b[39m=\u001b[39m n:\n\u001b[1;32m--> 482\u001b[0m     \u001b[39mraise\u001b[39;00m \u001b[39mValueError\u001b[39;00m(\u001b[39m\"\u001b[39m\u001b[39mSample larger than population or is negative\u001b[39m\u001b[39m\"\u001b[39m)\n\u001b[0;32m    483\u001b[0m result \u001b[39m=\u001b[39m [\u001b[39mNone\u001b[39;00m] \u001b[39m*\u001b[39m k\n\u001b[0;32m    484\u001b[0m setsize \u001b[39m=\u001b[39m \u001b[39m21\u001b[39m        \u001b[39m# size of a small set minus size of an empty list\u001b[39;00m\n",
      "\u001b[1;31mValueError\u001b[0m: Sample larger than population or is negative"
     ]
    }
   ],
   "source": [
    "import random\n",
    "\n",
    "# Variables numéricas\n",
    "index = -1\n",
    "num_list = [3, 4 , 5, 6]\n",
    "lim_inferior = 3\n",
    "lim_superior = 6\n",
    "longitud_lista = len(num_list)\n",
    "\n",
    "\n",
    "# Cadenas fijas de texto\n",
    "x = \"Comenzamos el juego!\"\n",
    "\n",
    "\n",
    "# User input\n",
    "intento = input(\"Tienes un intento para adivinar el numero entre el 3 y 6\")\n",
    "\n",
    "\n",
    "# Cantidades calculadas\n",
    "num_list = random.sample(range(lim_inferior, lim_superior), longitud_lista)\n",
    "\n",
    "# Inicio del juego\n",
    "print(x)\n",
    "\n",
    "# Propiedades de la lista aleatoria\n",
    "print(\"La lista facilitada por el usuario es: \", longitud_lista)\n",
    "print(\"Tiene \", len(longitud_lista), \"elementos entre \", min(longitud_lista), \"a \", max(longitud_lista), \".\")\n",
    "\n",
    "# Han adivinado un elemento?\n",
    "print(\"Han adivinado el número secreto?\")\n",
    "print(numero_secreto in longitud_lista)\n",
    "\n",
    "# Si adivinaron uno, dónde estaba?\n",
    "if num_list.count(intento): index = indice\n",
    "if index >= 0: print(\"Estaba en el sitio\", indice_humano + \", índice\", str(index)+\".\")\n",
    "\n",
    "# Fin del juego"
   ]
  },
  {
   "cell_type": "code",
   "execution_count": 8,
   "metadata": {},
   "outputs": [],
   "source": [
    "import random\n",
    "index = -1\n",
    "lim_inf = 3\n",
    "lim_superior = 6\n",
    "num_list = [3, 4, 5, 6]\n",
    "longitud_lista = len(num_list)\n",
    "print(\"bienvenido\")\n",
    "intento =\n",
    "\n",
    "\n"
   ]
  }
 ],
 "metadata": {
  "kernelspec": {
   "display_name": "Python 3.10.5 64-bit (windows store)",
   "language": "python",
   "name": "python3"
  },
  "language_info": {
   "codemirror_mode": {
    "name": "ipython",
    "version": 3
   },
   "file_extension": ".py",
   "mimetype": "text/x-python",
   "name": "python",
   "nbconvert_exporter": "python",
   "pygments_lexer": "ipython3",
   "version": "3.10.5"
  },
  "orig_nbformat": 4,
  "vscode": {
   "interpreter": {
    "hash": "16a6203e80ab692cd59eb2fed3c5840057343ed93097c3c3229af5f56100ad25"
   }
  }
 },
 "nbformat": 4,
 "nbformat_minor": 2
}
