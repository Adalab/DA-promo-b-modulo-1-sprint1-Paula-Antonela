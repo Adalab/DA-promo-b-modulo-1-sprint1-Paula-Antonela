{
 "cells": [
  {
   "cell_type": "code",
   "execution_count": 2,
   "metadata": {},
   "outputs": [],
   "source": [
    "tablero = [[\"-\", \"-\", \"-\"], [\"-\", \"-\", \"-\"], [\"-\", \"-\", \"-\"]]\n"
   ]
  },
  {
   "cell_type": "code",
   "execution_count": 3,
   "metadata": {},
   "outputs": [
    {
     "name": "stdout",
     "output_type": "stream",
     "text": [
      "[['-', '-', '-'], ['-', '-', '-'], ['-', '-', '-']]\n"
     ]
    }
   ],
   "source": [
    "print(tablero)"
   ]
  },
  {
   "cell_type": "code",
   "execution_count": 8,
   "metadata": {},
   "outputs": [],
   "source": [
    "tablero[2][0] = \"x\"\n",
    "\n"
   ]
  },
  {
   "cell_type": "code",
   "execution_count": 9,
   "metadata": {},
   "outputs": [],
   "source": [
    "x = int( input(\"elige un numero del 1 al 3\"))"
   ]
  },
  {
   "cell_type": "code",
   "execution_count": null,
   "metadata": {},
   "outputs": [],
   "source": [
    "x -1"
   ]
  },
  {
   "cell_type": "code",
   "execution_count": null,
   "metadata": {},
   "outputs": [],
   "source": []
  },
  {
   "cell_type": "code",
   "execution_count": 2,
   "metadata": {},
   "outputs": [
    {
     "name": "stdout",
     "output_type": "stream",
     "text": [
      "--¡Comenzamos el juego!--\n",
      "['-', '-', '-']\n",
      "['-', '-', '-']\n",
      "['-', '-', '-']\n",
      "La usuaria dio el input x 1,2\n",
      "['-', 'x', '-']\n",
      "['-', '-', '-']\n",
      "['-', '-', '-']\n",
      "La usuaria dio el input o 2,3\n",
      "['-', 'x', '-']\n",
      "['-', '-', 'o']\n",
      "['-', '-', '-']\n"
     ]
    }
   ],
   "source": [
    "# Variables predefinidas\n",
    "bienvenida = \"--¡Comenzamos el juego!--\"\n",
    "finalizacion = \"-- ¡Terminamos el juego! --\"\n",
    "\n",
    "\n",
    "# Definir el tablero con todo \"-\"\n",
    "tablero = [[\"-\", \"-\", \"-\"], [\"-\", \"-\", \"-\"], [\"-\", \"-\", \"-\"]]\n",
    "\n",
    "# Inicio del juego\n",
    "print(bienvenida)\n",
    "\n",
    "\n",
    "# Imprimir tablero\n",
    "print(tablero[0])\n",
    "print(tablero[1])\n",
    "print(tablero[2])\n",
    "\n",
    "# Input de la usuaria \n",
    "# (le pedimos a la usuaria que añada el x en su respuesta para obtener x a,b como nos pide enunciado)\n",
    "coor_x = input('Elige las coordenadas de tu ficha x. Deberás escribir la respuesta como x coordenada_fila , coordenada_columna')\n",
    "\n",
    "print('La usuaria dio el input',coor_x)\n",
    "\n",
    "# Actualizar tablero : la usuaria nos ha dado: coor_x = x 1,2\n",
    "# 1º queremos quitar la x de las coordenadas que nos ha dado la usuaria, por lo que separaremos el input de coor_x por el espacio -> coor_x.split().\n",
    "separacion_de_x = coor_x.split()\n",
    "# Después querremos acceder a las coordenadas (2 números) y separarlos por la , para obtener la coordenada de fila y la de columna:\n",
    "# tenemos que acceder al indice 1 de la lista separacion_de_x y allí separar los elementos por la ,.\n",
    "separacion_elementos_x = separacion_de_x[1].split(',')\n",
    "# Obtenemos las coordenadas finales para la x\n",
    "coor_x = tuple(int(num)-1 for num in (separacion_elementos_x))\n",
    "\n",
    "\n",
    "# Imprimir tablero\n",
    "\n",
    "tablero_x = tablero[coor_x[0]][coor_x[1]] = 'x' # Le digo quiero que me coloques la x en la fila deseada (indicada en el indice 0 de coor_final)\n",
    "#                                           y en la columna deseada (indicada en el índice 1 de la coor_final)\n",
    "\n",
    "print(tablero[0])\n",
    "print(tablero[1])\n",
    "print(tablero[2])\n",
    "\n",
    "# Input del usuario\n",
    "coor_o = input('Elige las coordenadas de tu ficha x. Deberás escribir la respuesta como o coordenada_fila , coordenada_columna')\n",
    "\n",
    "print('La usuaria dio el input',coor_o)\n",
    "\n",
    "# Actualizar tablero : la usuaria nos ha dado: coor_x = x 1,2\n",
    "\n",
    "#       1º queremos quitar la x de las coordenadas que nos ha dado la usuaria, por lo que separaremos el input de coor_x por el espacio -> coor_x.split().\n",
    "separacion_de_o = coor_o.split()\n",
    "\n",
    "#       Después querremos acceder a las coordenadas (2 números) y separarlos por la , para obtener la coordenada de fila y la de columna:\n",
    "#       tenemos que acceder al indice 1 de la lista separacion_de_x y allí separar los elementos por la ,.\n",
    "separacion_elementos_o = separacion_de_o[1].split(',')\n",
    "\n",
    "#       Obtenemos las coordenadas finales para la x\n",
    "coor_o = tuple(int(num)-1 for num in (separacion_elementos_o))\n",
    "\n",
    "\n",
    "# Imprimir tablero\n",
    "\n",
    "tablero_o = tablero[coor_o[0]][coor_o[1]] = 'o' # Le digo quiero que me coloques la x en la fila deseada (indicada en el indice 0 de coor_final)\n",
    "#                                           y en la columna deseada (indicada en el índice 1 de la coor_final)\n",
    "\n",
    "print(tablero[0])\n",
    "print(tablero[1])\n",
    "print(tablero[2])\n",
    "\n",
    "# Convertir los caracteres del board a una sola lista\n",
    "\n",
    "\n",
    "# Sacar los elementos únicos que no sean \"-\"\n",
    "\n",
    "# Final del juego"
   ]
  },
  {
   "cell_type": "code",
   "execution_count": 17,
   "metadata": {},
   "outputs": [],
   "source": [
    "srtingo = 'x 2,3'"
   ]
  },
  {
   "cell_type": "code",
   "execution_count": 19,
   "metadata": {},
   "outputs": [
    {
     "data": {
      "text/plain": [
       "['x', '2,3']"
      ]
     },
     "execution_count": 19,
     "metadata": {},
     "output_type": "execute_result"
    }
   ],
   "source": [
    "srtingo.split()"
   ]
  },
  {
   "cell_type": "code",
   "execution_count": 27,
   "metadata": {},
   "outputs": [
    {
     "data": {
      "text/plain": [
       "'2,3'"
      ]
     },
     "execution_count": 27,
     "metadata": {},
     "output_type": "execute_result"
    }
   ],
   "source": [
    "(srtingo.split())[1]"
   ]
  },
  {
   "cell_type": "code",
   "execution_count": 28,
   "metadata": {},
   "outputs": [
    {
     "data": {
      "text/plain": [
       "['2', '3']"
      ]
     },
     "execution_count": 28,
     "metadata": {},
     "output_type": "execute_result"
    }
   ],
   "source": [
    "((srtingo.split())[1]).split(',')"
   ]
  },
  {
   "cell_type": "code",
   "execution_count": 31,
   "metadata": {},
   "outputs": [
    {
     "name": "stdout",
     "output_type": "stream",
     "text": [
      "('2', '3')\n"
     ]
    }
   ],
   "source": [
    "coordenades = tuple(((srtingo.split())[1]).split(',')) \n",
    "print(coordenades)"
   ]
  },
  {
   "cell_type": "code",
   "execution_count": 33,
   "metadata": {},
   "outputs": [
    {
     "data": {
      "text/plain": [
       "'3'"
      ]
     },
     "execution_count": 33,
     "metadata": {},
     "output_type": "execute_result"
    }
   ],
   "source": [
    "coordenades[1]"
   ]
  },
  {
   "cell_type": "code",
   "execution_count": 77,
   "metadata": {},
   "outputs": [
    {
     "name": "stdout",
     "output_type": "stream",
     "text": [
      "x 1,2\n"
     ]
    }
   ],
   "source": [
    "xo = (input())\n",
    "print(xo)"
   ]
  },
  {
   "cell_type": "code",
   "execution_count": 74,
   "metadata": {},
   "outputs": [
    {
     "data": {
      "text/plain": [
       "['x', '2,1']"
      ]
     },
     "execution_count": 74,
     "metadata": {},
     "output_type": "execute_result"
    }
   ],
   "source": [
    "xo.split()"
   ]
  },
  {
   "cell_type": "code",
   "execution_count": 79,
   "metadata": {},
   "outputs": [
    {
     "name": "stdout",
     "output_type": "stream",
     "text": [
      "(0, 1)\n"
     ]
    }
   ],
   "source": [
    "xo = tuple(int(num)-1 for num in ((xo.split()[1]).split(',')))\n",
    "print(xo)"
   ]
  },
  {
   "cell_type": "code",
   "execution_count": 69,
   "metadata": {},
   "outputs": [
    {
     "data": {
      "text/plain": [
       "'1,2'"
      ]
     },
     "execution_count": 69,
     "metadata": {},
     "output_type": "execute_result"
    }
   ],
   "source": [
    "xo.split()[1]"
   ]
  },
  {
   "cell_type": "code",
   "execution_count": 72,
   "metadata": {},
   "outputs": [
    {
     "data": {
      "text/plain": [
       "['1', '2']"
      ]
     },
     "execution_count": 72,
     "metadata": {},
     "output_type": "execute_result"
    }
   ],
   "source": [
    "(xo.split()[1]).split(',')"
   ]
  },
  {
   "cell_type": "code",
   "execution_count": null,
   "metadata": {},
   "outputs": [],
   "source": []
  },
  {
   "cell_type": "code",
   "execution_count": 59,
   "metadata": {},
   "outputs": [
    {
     "data": {
      "text/plain": [
       "tuple"
      ]
     },
     "execution_count": 59,
     "metadata": {},
     "output_type": "execute_result"
    }
   ],
   "source": [
    "type(xo)"
   ]
  },
  {
   "cell_type": "code",
   "execution_count": 61,
   "metadata": {},
   "outputs": [
    {
     "data": {
      "text/plain": [
       "2"
      ]
     },
     "execution_count": 61,
     "metadata": {},
     "output_type": "execute_result"
    }
   ],
   "source": [
    "xo[0]"
   ]
  },
  {
   "cell_type": "code",
   "execution_count": null,
   "metadata": {},
   "outputs": [],
   "source": []
  }
 ],
 "metadata": {
  "kernelspec": {
   "display_name": "Python 3.9.7 ('base')",
   "language": "python",
   "name": "python3"
  },
  "language_info": {
   "codemirror_mode": {
    "name": "ipython",
    "version": 3
   },
   "file_extension": ".py",
   "mimetype": "text/x-python",
   "name": "python",
   "nbconvert_exporter": "python",
   "pygments_lexer": "ipython3",
   "version": "3.9.7"
  },
  "orig_nbformat": 4,
  "vscode": {
   "interpreter": {
    "hash": "40d3a090f54c6569ab1632332b64b2c03c39dcf918b08424e98f38b5ae0af88f"
   }
  }
 },
 "nbformat": 4,
 "nbformat_minor": 2
}
