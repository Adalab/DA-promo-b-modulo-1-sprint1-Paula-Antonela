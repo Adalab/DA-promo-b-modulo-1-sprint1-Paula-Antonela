{
 "cells": [
  {
   "cell_type": "markdown",
   "metadata": {},
   "source": [
    "Ejercicio pair programming 1 variables:"
   ]
  },
  {
   "cell_type": "code",
   "execution_count": 1,
   "metadata": {},
   "outputs": [
    {
     "name": "stdout",
     "output_type": "stream",
     "text": [
      "Comenzamos el juego\n",
      "Intento 1:  4\n",
      "Terminamos el juego. El numero era 4 ¿lo adivinaste?\n"
     ]
    }
   ],
   "source": [
    "import math\n",
    "import random\n",
    "\n",
    "# Variables numéricas\n",
    "\n",
    "\n",
    "# Cadenas fijas de texto\n",
    "x = \"Comenzamos el juego\"\n",
    "\n",
    "# User input\n",
    "intento_x = input(\"Tienes 2 intentos para adivinar el numero entre el 3 y 6\")\n",
    "\n",
    "# Cantidades calculadas\n",
    "\n",
    "\n",
    "# Inicio del juego\n",
    "print(x)\n",
    "\n",
    "# Adivinar 1 intento\n",
    "print(\"Intento 1:\", intento_x)\n",
    "\n",
    "# Fin del juego\n",
    "print(\"Terminamos el juego. El numero era\", intento_x, \"¿lo adivinaste?\") "
   ]
  }
 ],
 "metadata": {
  "kernelspec": {
   "display_name": "Python 3.9.7 ('base')",
   "language": "python",
   "name": "python3"
  },
  "language_info": {
   "codemirror_mode": {
    "name": "ipython",
    "version": 3
   },
   "file_extension": ".py",
   "mimetype": "text/x-python",
   "name": "python",
   "nbconvert_exporter": "python",
   "pygments_lexer": "ipython3",
   "version": "3.9.7"
  },
  "orig_nbformat": 4,
  "vscode": {
   "interpreter": {
    "hash": "40d3a090f54c6569ab1632332b64b2c03c39dcf918b08424e98f38b5ae0af88f"
   }
  }
 },
 "nbformat": 4,
 "nbformat_minor": 2
}
