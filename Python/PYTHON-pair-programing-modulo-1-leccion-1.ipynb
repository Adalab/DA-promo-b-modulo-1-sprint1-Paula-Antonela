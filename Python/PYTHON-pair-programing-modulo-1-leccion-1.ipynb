{
 "cells": [
  {
   "cell_type": "markdown",
   "metadata": {},
   "source": [
    "Ejercicio pair programming 1 variables"
   ]
  },
  {
   "cell_type": "code",
   "execution_count": 19,
   "metadata": {},
   "outputs": [
    {
     "name": "stdout",
     "output_type": "stream",
     "text": [
      "Comenzamos el juego\n",
      "Intento 1:  4\n",
      "Terminamos el juego. El numero era 4 ¿lo adivinaste?\n"
     ]
    }
   ],
   "source": [
    "import math\n",
    "import random\n",
    "\n",
    "# Variables numéricas\n",
    "\n",
    "\n",
    "# Cadenas fijas de texto\n",
    "x = \"Comenzamos el juego\"\n",
    "\n",
    "# User input\n",
    "intento_x = input(\"Tienes 2 intentos para adivinar el numero entre el 3 y 6\")\n",
    "\n",
    "# Cantidades calculadas\n",
    "intentos_permitidos = round(math.log(lim_superior - lim_inferior + 1,2))\n",
    "numero_secreto = random.randint(lim_inferior,lim_superior)\n",
    "\n",
    "# Inicio del juego\n",
    "print(x)\n",
    "\n",
    "# Adivinar 1 intento\n",
    "print(\"Intento 1: \", intento_x)\n",
    "\n",
    "# Fin del juego\n",
    "print(\"Terminamos el juego. El numero era\", intento_x, \"¿lo adivinaste?\") "
   ]
  }
 ],
 "metadata": {
  "kernelspec": {
   "display_name": "Python 3.10.5 64-bit (windows store)",
   "language": "python",
   "name": "python3"
  },
  "language_info": {
   "codemirror_mode": {
    "name": "ipython",
    "version": 3
   },
   "file_extension": ".py",
   "mimetype": "text/x-python",
   "name": "python",
   "nbconvert_exporter": "python",
   "pygments_lexer": "ipython3",
   "version": "3.10.5"
  },
  "orig_nbformat": 4,
  "vscode": {
   "interpreter": {
    "hash": "16a6203e80ab692cd59eb2fed3c5840057343ed93097c3c3229af5f56100ad25"
   }
  }
 },
 "nbformat": 4,
 "nbformat_minor": 2
}
