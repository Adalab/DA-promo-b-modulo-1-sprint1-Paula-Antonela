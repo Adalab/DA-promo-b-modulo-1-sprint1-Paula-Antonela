{
 "cells": [
  {
   "cell_type": "code",
   "execution_count": 9,
   "metadata": {},
   "outputs": [
    {
     "name": "stdout",
     "output_type": "stream",
     "text": [
      "82\n"
     ]
    }
   ],
   "source": [
    "# Ejercicio 1 \n",
    "# Definición de variable x: \n",
    "x = int(input ('Número entre el 0 al 100'))\n",
    "\n",
    "# Si utilizamos variables en vex de comparaciones de x, no nos imprime nada en la condición\n",
    "F = x < 25\n",
    "E = 25 <= x < 45\n",
    "D = 45 <= x < 50\n",
    "C = 50 <= x < 60\n",
    "B = 60 <= x < 80\n",
    "A = x >= 80\n",
    "\n",
    "print (x)\n"
   ]
  },
  {
   "cell_type": "code",
   "execution_count": 8,
   "metadata": {},
   "outputs": [
    {
     "name": "stdout",
     "output_type": "stream",
     "text": [
      "Tu nota es A\n"
     ]
    }
   ],
   "source": [
    "# Hacemos la condición para saber qué letra corresponde con la nota:\n",
    "if x < 25:\n",
    "    print (\"Tu nota es F\")\n",
    "elif 25 <= x < 45:\n",
    "    print (\"Tu nota es E\")\n",
    "elif 45 <= x < 50:\n",
    "    print (\"Tu nota es D\")\n",
    "elif 50 <= x < 60:\n",
    "    print (\"Tu nota es C\")\n",
    "elif 60 <= x < 80:\n",
    "    print (\"Tu nota es B\")\n",
    "elif x >= 80:\n",
    "    print (\"Tu nota es A\")"
   ]
  },
  {
   "cell_type": "code",
   "execution_count": 14,
   "metadata": {},
   "outputs": [],
   "source": [
    "# Ejercicio 2 \n",
    "# Definicición variables\n",
    "\n",
    "edad_persona1 = int(input (\"¿Cual es tu edad?\"))\n",
    "edad_persona2 = int(input (\"¿Cual es tu edad?\"))\n",
    "edad_persona3 = int(input (\"¿Cual es tu edad?\"))"
   ]
  },
  {
   "cell_type": "code",
   "execution_count": 15,
   "metadata": {},
   "outputs": [
    {
     "name": "stdout",
     "output_type": "stream",
     "text": [
      "65 26 84\n"
     ]
    }
   ],
   "source": [
    "print(edad_persona1, edad_persona2, edad_persona3)"
   ]
  },
  {
   "cell_type": "code",
   "execution_count": 17,
   "metadata": {},
   "outputs": [
    {
     "name": "stdout",
     "output_type": "stream",
     "text": [
      "Persona 2, eres el más joven\n",
      "Persona 3, eres el más viejo\n"
     ]
    }
   ],
   "source": [
    "if edad_persona1 <= edad_persona2 and edad_persona1 <= edad_persona3:\n",
    "    print (\"Persona 1, eres el más joven\")\n",
    "elif edad_persona2 <= edad_persona1 and edad_persona2 <= edad_persona3:\n",
    "    print ('Persona 2, eres el más joven')\n",
    "elif edad_persona3 <= edad_persona1 and edad_persona3 <= edad_persona2:\n",
    "    print ('Persona 3, eres el más joven')\n",
    "\n",
    "if edad_persona1 >= edad_persona2 and edad_persona1 >= edad_persona3:\n",
    "    print (\"Persona 1, eres el más viejo\")\n",
    "elif edad_persona2 >= edad_persona1 and edad_persona2 >= edad_persona3:\n",
    "    print ('Persona 2, eres el más viejo')\n",
    "elif edad_persona3 >= edad_persona1 and edad_persona3 >= edad_persona2:\n",
    "    print ('Persona 3, eres el más viejo')\n"
   ]
  },
  {
   "cell_type": "code",
   "execution_count": 18,
   "metadata": {},
   "outputs": [
    {
     "name": "stdout",
     "output_type": "stream",
     "text": [
      "Bienvenido a bordo de 007\n"
     ]
    }
   ],
   "source": [
    "# Ejercicio 3\n",
    "# Definición de variable nombre:\n",
    "nombre = input ('¿Cuál es tu nombre?')\n",
    "\n",
    "if nombre == 'Bond':\n",
    "    print ('Bienvenido a bordo de 007')\n",
    "else:\n",
    "    print ('Buenos días', nombre)"
   ]
  },
  {
   "cell_type": "code",
   "execution_count": 24,
   "metadata": {},
   "outputs": [
    {
     "data": {
      "text/plain": [
       "69593"
      ]
     },
     "execution_count": 24,
     "metadata": {},
     "output_type": "execute_result"
    }
   ],
   "source": [
    "# Ejercicio 4\n",
    "tree = {\"Taiwan\": 69593,\n",
    "        \"Japan\": 49894, \n",
    "        \"Russia\": 41396, \n",
    "        \"Canada\": 36388, \n",
    "        \"Bulgaria\": 24987}\n",
    "\n",
    "tree['Taiwan'] # Podemos llegar al valor numérico (value), a partir del key del diccionario\n"
   ]
  },
  {
   "cell_type": "code",
   "execution_count": 41,
   "metadata": {},
   "outputs": [],
   "source": [
    "# Creamos una lista vacía en la que iremos añadiendo los países en caso que cumplan la condición\n",
    "masarboles = []\n",
    "if tree['Taiwan'] > 20000:\n",
    "    masarboles.append('Taiwan')\n",
    "if tree['Japan'] > 20000:\n",
    "    masarboles.append('Japan')\n",
    "if tree['Russia'] > 20000:\n",
    "    masarboles.append('Russia')\n",
    "if tree['Canada'] > 20000:\n",
    "    masarboles.append('Canada')\n",
    "if tree['Bulgaria'] > 20000:\n",
    "    masarboles.append('Bulgaria')"
   ]
  },
  {
   "cell_type": "code",
   "execution_count": 42,
   "metadata": {},
   "outputs": [
    {
     "name": "stdout",
     "output_type": "stream",
     "text": [
      "['Taiwan', 'Japan', 'Russia', 'Canada', 'Bulgaria']\n"
     ]
    }
   ],
   "source": [
    "print(masarboles)"
   ]
  },
  {
   "cell_type": "code",
   "execution_count": 80,
   "metadata": {},
   "outputs": [
    {
     "name": "stdout",
     "output_type": "stream",
     "text": [
      "['Zara', 'femenino']\n"
     ]
    }
   ],
   "source": [
    "# Ejercicio 5\n",
    "# Preguntando nombre y sexo al usuario\n",
    "nombreysexo = input ('Especifica tu nombre y sexo en formato nombre-sexo')\n",
    "listname = nombreysexo.split('-')\n",
    "print (listname)\n"
   ]
  },
  {
   "cell_type": "code",
   "execution_count": 85,
   "metadata": {},
   "outputs": [],
   "source": [
    "listleter = list(listname[0]) #Accedemos a la primera letra del nombre"
   ]
  },
  {
   "cell_type": "code",
   "execution_count": 86,
   "metadata": {},
   "outputs": [
    {
     "data": {
      "text/plain": [
       "'Z'"
      ]
     },
     "execution_count": 86,
     "metadata": {},
     "output_type": "execute_result"
    }
   ],
   "source": [
    "listleter [0]"
   ]
  },
  {
   "cell_type": "code",
   "execution_count": 87,
   "metadata": {},
   "outputs": [],
   "source": [
    "dic1 = 'abcdefghijkl'\n",
    "dic2 = 'mnopqrstuvwxyz'"
   ]
  },
  {
   "cell_type": "code",
   "execution_count": 88,
   "metadata": {},
   "outputs": [],
   "source": [
    "if listleter[0] in dic1:\n",
    "    print('Perteneces al grupo A')\n",
    "else:\n",
    "    if listleter[0] in dic2:\n",
    "        print('Perteneces al grupo B')"
   ]
  },
  {
   "cell_type": "code",
   "execution_count": null,
   "metadata": {},
   "outputs": [],
   "source": [
    "grupo_a = 'masculino', ''"
   ]
  },
  {
   "cell_type": "code",
   "execution_count": 89,
   "metadata": {},
   "outputs": [],
   "source": [
    "# Ejercicio 5 no está acabado y falta añadir otro condicional, ya que ahora solo contempla las letras de los nombres sin tener en cuenta la condicion de femenino y masculino"
   ]
  },
  {
   "cell_type": "code",
   "execution_count": null,
   "metadata": {},
   "outputs": [],
   "source": [
    "# Ejercicio 6\n",
    "# "
   ]
  }
 ],
 "metadata": {
  "kernelspec": {
   "display_name": "Python 3.10.5 64-bit (windows store)",
   "language": "python",
   "name": "python3"
  },
  "language_info": {
   "codemirror_mode": {
    "name": "ipython",
    "version": 3
   },
   "file_extension": ".py",
   "mimetype": "text/x-python",
   "name": "python",
   "nbconvert_exporter": "python",
   "pygments_lexer": "ipython3",
   "version": "3.10.5"
  },
  "orig_nbformat": 4,
  "vscode": {
   "interpreter": {
    "hash": "16a6203e80ab692cd59eb2fed3c5840057343ed93097c3c3229af5f56100ad25"
   }
  }
 },
 "nbformat": 4,
 "nbformat_minor": 2
}
