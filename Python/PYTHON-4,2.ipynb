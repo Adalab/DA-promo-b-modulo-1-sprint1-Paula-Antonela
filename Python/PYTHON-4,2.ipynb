{
 "cells": [
  {
   "cell_type": "code",
   "execution_count": 22,
   "metadata": {},
   "outputs": [
    {
     "name": "stdout",
     "output_type": "stream",
     "text": [
      "--¡Comienza el juego!--\n",
      "{1: 'Colors', 2: 'Shapes', 3: 'Fruits', 4: 'Animals'}\n",
      "{1: 'Colors', 2: 'Shapes', 3: 'Fruits', 4: 'Animals'}\n",
      "Elegiste la categoria 1\n",
      "['red', 'orange', 'yellow', 'green', 'blue', 'indigo', 'violet', 'white', 'black', 'brown']\n",
      "yellow\n",
      "Elegiste la palabra yellow\n",
      "¿Era la palabra que buscabamos?\n",
      "-- El juego ha terminado--\n"
     ]
    }
   ],
   "source": [
    "import random\n",
    "\n",
    "words = {'Colors':'red orange yellow green blue indigo violet white black brown'.split(),\n",
    "'Shapes':'square triangle rectangle circle ellipse rhombus trapezoid chevron pentagon hexagon septagon octagon'.split(),\n",
    "'Fruits':'apple orange lemon lime pear watermelon grape grapefruit cherry banana cantaloupe mango strawberry tomato'.split(),\n",
    "'Animals':'bat bear beaver cat cougar crab deer dog donkey duck eagle fish frog goat leech lion lizard monkey moose mouse otter owl panda python rabbit rat shark sheep skunk squid tiger turkey turtle weasel whale wolf wombat zebra'.split()}\n",
    "\n",
    "# Variables predefinidas\n",
    "bienvenida = '--¡Comienza el juego!--'\n",
    "key =('Elige una de las siguientes categorias, usando su número')\n",
    "value = ('Adivina la palabra de la categoría')\n",
    "adivina = '¿Era la palabra que buscabamos?'\n",
    "categorias = {1:'Colors', 2:'Shapes', 3:'Fruits', 4:'Animals'}\n",
    "\n",
    "# Inicio del juego\n",
    "print(bienvenida)\n",
    "\n",
    "# Elegir una categoria\n",
    "print(categorias)\n",
    "eleccion1 = int(input(key))\n",
    "print (categorias)\n",
    "\n",
    "print('Elegiste la categoria',eleccion1)\n",
    "\n",
    "# cOmo accedemos a la value de la key elegida? \n",
    "categoria_seleccionada = categorias[int(eleccion1)]\n",
    "\n",
    "# El ordenador elige una palabra de la categoria\n",
    "list_values = words[categoria_seleccionada]\n",
    "words_list = list(list_values)\n",
    "word_secreta = random.randint(0, len(words_list)-1)\n",
    "\n",
    "# Adivinar una palabra\n",
    "print(list_values)\n",
    "print(input(value))\n",
    "eleccion_2 = str(input(value))\n",
    "print('Elegiste la palabra',(eleccion_2))\n",
    "\n",
    "# Era la palabra aleatoria?\n",
    "print(adivina)\n",
    "word_secreta == str(input(value))\n",
    "\n",
    "# Fin del juego\n",
    "print ('-- El juego ha terminado--')"
   ]
  },
  {
   "cell_type": "code",
   "execution_count": 2,
   "metadata": {},
   "outputs": [
    {
     "name": "stdout",
     "output_type": "stream",
     "text": [
      "{'Colors': ['red', 'orange', 'yellow', 'green', 'blue', 'indigo', 'violet', 'white', 'black', 'brown'], 'Shapes': ['square', 'triangle', 'rectangle', 'circle', 'ellipse', 'rhombus', 'trapezoid', 'chevron', 'pentagon', 'hexagon', 'septagon', 'octagon'], 'Fruits': ['apple', 'orange', 'lemon', 'lime', 'pear', 'watermelon', 'grape', 'grapefruit', 'cherry', 'banana', 'cantaloupe', 'mango', 'strawberry', 'tomato'], 'Animals': ['bat', 'bear', 'beaver', 'cat', 'cougar', 'crab', 'deer', 'dog', 'donkey', 'duck', 'eagle', 'fish', 'frog', 'goat', 'leech', 'lion', 'lizard', 'monkey', 'moose', 'mouse', 'otter', 'owl', 'panda', 'python', 'rabbit', 'rat', 'shark', 'sheep', 'skunk', 'squid', 'tiger', 'turkey', 'turtle', 'weasel', 'whale', 'wolf', 'wombat', 'zebra']}\n"
     ]
    }
   ],
   "source": [
    "words = {'Colors':'red orange yellow green blue indigo violet white black brown'.split(),\n",
    "'Shapes':'square triangle rectangle circle ellipse rhombus trapezoid chevron pentagon hexagon septagon octagon'.split(),\n",
    "'Fruits':'apple orange lemon lime pear watermelon grape grapefruit cherry banana cantaloupe mango strawberry tomato'.split(),\n",
    "'Animals':'bat bear beaver cat cougar crab deer dog donkey duck eagle fish frog goat leech lion lizard monkey moose mouse otter owl panda python rabbit rat shark sheep skunk squid tiger turkey turtle weasel whale wolf wombat zebra'.split()}\n",
    "\n",
    "print(words)"
   ]
  }
 ],
 "metadata": {
  "kernelspec": {
   "display_name": "Python 3.9.7 ('base')",
   "language": "python",
   "name": "python3"
  },
  "language_info": {
   "codemirror_mode": {
    "name": "ipython",
    "version": 3
   },
   "file_extension": ".py",
   "mimetype": "text/x-python",
   "name": "python",
   "nbconvert_exporter": "python",
   "pygments_lexer": "ipython3",
   "version": "3.9.7"
  },
  "orig_nbformat": 4,
  "vscode": {
   "interpreter": {
    "hash": "40d3a090f54c6569ab1632332b64b2c03c39dcf918b08424e98f38b5ae0af88f"
   }
  }
 },
 "nbformat": 4,
 "nbformat_minor": 2
}
