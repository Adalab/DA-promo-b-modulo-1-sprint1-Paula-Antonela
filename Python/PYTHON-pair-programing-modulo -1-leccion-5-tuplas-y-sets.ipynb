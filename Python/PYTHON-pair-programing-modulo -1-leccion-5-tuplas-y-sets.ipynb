{
 "cells": [
  {
   "cell_type": "code",
   "execution_count": 2,
   "metadata": {},
   "outputs": [],
   "source": [
    "tablero = [[\"-\", \"-\", \"-\"], [\"-\", \"-\", \"-\"], [\"-\", \"-\", \"-\"]]\n"
   ]
  },
  {
   "cell_type": "code",
   "execution_count": 3,
   "metadata": {},
   "outputs": [
    {
     "name": "stdout",
     "output_type": "stream",
     "text": [
      "[['-', '-', '-'], ['-', '-', '-'], ['-', '-', '-']]\n"
     ]
    }
   ],
   "source": [
    "print(tablero)"
   ]
  },
  {
   "cell_type": "code",
   "execution_count": 8,
   "metadata": {},
   "outputs": [],
   "source": [
    "tablero[2][0] = \"x\"\n",
    "\n"
   ]
  },
  {
   "cell_type": "code",
   "execution_count": 9,
   "metadata": {},
   "outputs": [],
   "source": [
    "x = int( input(\"elige un numero del 1 al 3\"))"
   ]
  },
  {
   "cell_type": "code",
   "execution_count": null,
   "metadata": {},
   "outputs": [],
   "source": [
    "x -1"
   ]
  },
  {
   "cell_type": "code",
   "execution_count": 19,
   "metadata": {},
   "outputs": [
    {
     "name": "stdout",
     "output_type": "stream",
     "text": [
      "--¡Comenzamos el juego!--\n",
      "['-', '-', '-']\n",
      "['-', '-', '-']\n",
      "['-', '-', '-']\n"
     ]
    },
    {
     "ename": "NameError",
     "evalue": "name 'b' is not defined",
     "output_type": "error",
     "traceback": [
      "\u001b[1;31m---------------------------------------------------------------------------\u001b[0m",
      "\u001b[1;31mNameError\u001b[0m                                 Traceback (most recent call last)",
      "\u001b[1;32mc:\\Users\\antoa\\OneDrive\\Escritorio\\ADALAB\\ejercicios-de-adalab-pareja\\DA-promo-b-modulo-1-sprint1-Paula-Antonela\\Python\\PYTHON-pair-programing-modulo -1-leccion-5-tuplas-y-sets.ipynb Celda 6\u001b[0m in \u001b[0;36m<cell line: 21>\u001b[1;34m()\u001b[0m\n\u001b[0;32m     <a href='vscode-notebook-cell:/c%3A/Users/antoa/OneDrive/Escritorio/ADALAB/ejercicios-de-adalab-pareja/DA-promo-b-modulo-1-sprint1-Paula-Antonela/Python/PYTHON-pair-programing-modulo%20-1-leccion-5-tuplas-y-sets.ipynb#ch0000000?line=18'>19</a>\u001b[0m a \u001b[39m=\u001b[39m \u001b[39mint\u001b[39m( \u001b[39minput\u001b[39m(\u001b[39m\"\u001b[39m\u001b[39melige un numero del 1 al 3\u001b[39m\u001b[39m\"\u001b[39m))\n\u001b[0;32m     <a href='vscode-notebook-cell:/c%3A/Users/antoa/OneDrive/Escritorio/ADALAB/ejercicios-de-adalab-pareja/DA-promo-b-modulo-1-sprint1-Paula-Antonela/Python/PYTHON-pair-programing-modulo%20-1-leccion-5-tuplas-y-sets.ipynb#ch0000000?line=19'>20</a>\u001b[0m y \u001b[39m=\u001b[39m \u001b[39mint\u001b[39m( \u001b[39minput\u001b[39m (\u001b[39m\"\u001b[39m\u001b[39melige un numero del 1 al 3\u001b[39m\u001b[39m\"\u001b[39m))\n\u001b[1;32m---> <a href='vscode-notebook-cell:/c%3A/Users/antoa/OneDrive/Escritorio/ADALAB/ejercicios-de-adalab-pareja/DA-promo-b-modulo-1-sprint1-Paula-Antonela/Python/PYTHON-pair-programing-modulo%20-1-leccion-5-tuplas-y-sets.ipynb#ch0000000?line=20'>21</a>\u001b[0m tupla\u001b[39m=\u001b[39m (a, b)\n\u001b[0;32m     <a href='vscode-notebook-cell:/c%3A/Users/antoa/OneDrive/Escritorio/ADALAB/ejercicios-de-adalab-pareja/DA-promo-b-modulo-1-sprint1-Paula-Antonela/Python/PYTHON-pair-programing-modulo%20-1-leccion-5-tuplas-y-sets.ipynb#ch0000000?line=22'>23</a>\u001b[0m \u001b[39mprint\u001b[39m(\u001b[39m\"\u001b[39m\u001b[39m¨La usuaria dio el imput:\u001b[39m\u001b[39m\"\u001b[39m, \u001b[39m\"\u001b[39m\u001b[39m¨x\u001b[39m\u001b[39m\"\u001b[39m, (tupla))\n\u001b[0;32m     <a href='vscode-notebook-cell:/c%3A/Users/antoa/OneDrive/Escritorio/ADALAB/ejercicios-de-adalab-pareja/DA-promo-b-modulo-1-sprint1-Paula-Antonela/Python/PYTHON-pair-programing-modulo%20-1-leccion-5-tuplas-y-sets.ipynb#ch0000000?line=27'>28</a>\u001b[0m coor \u001b[39m=\u001b[39m \u001b[39mtuple\u001b[39m(\u001b[39mint\u001b[39m(num)\u001b[39m-\u001b[39m\u001b[39m1\u001b[39m \u001b[39mfor\u001b[39;00m num \u001b[39min\u001b[39;00m coor\u001b[39m.\u001b[39msplit(\u001b[39m\"\u001b[39m\u001b[39m,\u001b[39m\u001b[39m\"\u001b[39m))\n",
      "\u001b[1;31mNameError\u001b[0m: name 'b' is not defined"
     ]
    }
   ],
   "source": [
    "# Variables predefinidas\n",
    "bienvenida = \"--¡Comenzamos el juego!--\"\n",
    "finalizacion = \"-- ¡Terminamos el juego! --\"\n",
    "\n",
    "\n",
    "# Definir el tablero con todo \"-\"\n",
    "tablero = [[\"-\", \"-\", \"-\"], [\"-\", \"-\", \"-\"], [\"-\", \"-\", \"-\"]]\n",
    "\n",
    "# Inicio del juego\n",
    "print(bienvenida)\n",
    "\n",
    "\n",
    "# Imprimir tablero\n",
    "print(tablero[0])\n",
    "print(tablero[1])\n",
    "print(tablero[2])\n",
    "\n",
    "# Input de la usuaria\n",
    "a = int( input(\"elige un numero del 1 al 3\"))\n",
    "y = int( input (\"elige un numero del 1 al 3\"))\n",
    "\n",
    "print(\"¨La usuaria dio el imput:\", \"¨x\", (a,y))\n",
    "\n",
    "\n",
    "\n",
    "\n",
    "coor = tuple(int(num)-1 for num in coor.split(\",\"))\n",
    "\n",
    "# Actualizar tablero\n",
    "\n",
    "\n",
    "# Imprimir tablero\n",
    "\n",
    "# Input del usuario\n",
    "\n",
    "\n",
    "coor = tuple(int(co)-1 for co in coor.split(\",\"))\n",
    "\n",
    "# Actualizar tablero\n",
    "\n",
    "# Imprimir tablero\n",
    "\n",
    "# Convertir los caracteres del board a una sola lista\n",
    "board_list = sum(board,[])\n",
    "\n",
    "# Sacar los elementos únicos que no sean \"-\"\n",
    "\n",
    "# Final del juego"
   ]
  },
  {
   "cell_type": "code",
   "execution_count": null,
   "metadata": {},
   "outputs": [],
   "source": []
  }
 ],
 "metadata": {
  "kernelspec": {
   "display_name": "Python 3.10.5 64-bit (windows store)",
   "language": "python",
   "name": "python3"
  },
  "language_info": {
   "codemirror_mode": {
    "name": "ipython",
    "version": 3
   },
   "file_extension": ".py",
   "mimetype": "text/x-python",
   "name": "python",
   "nbconvert_exporter": "python",
   "pygments_lexer": "ipython3",
   "version": "3.10.5"
  },
  "orig_nbformat": 4,
  "vscode": {
   "interpreter": {
    "hash": "16a6203e80ab692cd59eb2fed3c5840057343ed93097c3c3229af5f56100ad25"
   }
  }
 },
 "nbformat": 4,
 "nbformat_minor": 2
}
